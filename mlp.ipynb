{
 "cells": [
  {
   "cell_type": "code",
   "execution_count": 1,
   "metadata": {},
   "outputs": [],
   "source": [
    "%load_ext autoreload\n",
    "%autoreload 2"
   ]
  },
  {
   "cell_type": "code",
   "execution_count": 2,
   "metadata": {},
   "outputs": [],
   "source": [
    "import numpy as np\n",
    "import matplotlib.pyplot as plt\n",
    "import seaborn as sns\n",
    "import pandas as pd"
   ]
  },
  {
   "cell_type": "code",
   "execution_count": 3,
   "metadata": {},
   "outputs": [],
   "source": [
    "from src.dataset import load_team_data, load_agg_player_data\n",
    "from src.preprocessing import impute_missing_values, split_data, remove_name_columns, encode_target_variable, remove_na_columns, find_knee_point\n",
    "\n",
    "team_statistics, y = load_team_data()\n",
    "player_statistics = load_agg_player_data()\n",
    "x = pd.concat([team_statistics, player_statistics], axis=1, join='inner')\n",
    "\n",
    "x = remove_name_columns(x)\n",
    "y = encode_target_variable(y)\n",
    "(x_train, y_train), (x_val, y_val), (x_test, y_test) = split_data(x, y)\n",
    "\n",
    "x_train, imputer, numeric_columns = impute_missing_values(x_train)\n",
    "x_val, _, _ = impute_missing_values(x_val, imputer=imputer, numeric_columns=numeric_columns)\n",
    "x_test, _, _ = impute_missing_values(x_test, imputer=imputer, numeric_columns=numeric_columns)\n",
    "\n",
    "x_train, non_na_columns = remove_na_columns(x_train)\n",
    "x_val, _ = remove_na_columns(x_val, non_na_columns=non_na_columns)\n",
    "x_test, _ = remove_na_columns(x_test, non_na_columns=non_na_columns)\n",
    "\n",
    "y_train = y_train.to_numpy().flatten()\n",
    "y_val = y_val.to_numpy().flatten()\n",
    "y_test = y_test.to_numpy().flatten()"
   ]
  },
  {
   "cell_type": "code",
   "execution_count": 4,
   "metadata": {},
   "outputs": [],
   "source": [
    "# x_train_clean = x_train.copy()\n",
    "# x_val_clean = x_val.copy()\n",
    "# x_test_clean = x_test.copy()"
   ]
  },
  {
   "cell_type": "code",
   "execution_count": 113,
   "metadata": {},
   "outputs": [],
   "source": [
    "x_train = x_train_clean.copy()\n",
    "x_val = x_val_clean.copy()\n",
    "x_test = x_test_clean.copy()"
   ]
  },
  {
   "cell_type": "code",
   "execution_count": 114,
   "metadata": {},
   "outputs": [],
   "source": [
    "# === Load mutual information feature ===\n",
    "scores = np.load(\"features_importance_mutual_info_based.npy\")\n",
    "\n",
    "order = np.argsort(scores)[::-1]\n",
    "scores_sorted = scores[order]\n",
    "\n",
    "k = 10\n",
    "knee_indices = [find_knee_point(scores_sorted)]\n",
    "\n",
    "for i in range(k-1):\n",
    "    knee_indices.append(find_knee_point(scores_sorted[knee_indices[i]:]) + knee_indices[i])\n",
    "# =======================================\n",
    "    \n",
    "# === Extract best features ===\n",
    "index_knee = 8\n",
    "columns_selected = x_train.columns[order[:knee_indices[index_knee]]]\n",
    "\n",
    "features = list(columns_selected)\n",
    "features = set([feature[5:] for feature in features])\n",
    "\n",
    "columns_to_keep = [\"HOME_\" + feature for feature in features] + [\"AWAY_\" + feature for feature in features]\n",
    "\n",
    "x_train = x_train[columns_to_keep]\n",
    "x_val = x_val[columns_to_keep]\n",
    "x_test = x_test[columns_to_keep]\n",
    "# ============================="
   ]
  },
  {
   "cell_type": "code",
   "execution_count": 115,
   "metadata": {},
   "outputs": [],
   "source": [
    "import torch\n",
    "\n",
    "class MLP(torch.nn.Module):\n",
    "    def __init__(self, input_dim, hidden_dim, output_dim):\n",
    "        super(MLP, self).__init__()\n",
    "        self.fc1 = torch.nn.Linear(input_dim, hidden_dim)\n",
    "        self.norm = torch.nn.LayerNorm(hidden_dim)\n",
    "        self.act = torch.nn.SiLU()\n",
    "        self.dropout = torch.nn.Dropout(0.5)\n",
    "        self.fc2 = torch.nn.Linear(hidden_dim, output_dim)\n",
    "\n",
    "    def forward(self, x):\n",
    "        out = self.fc1(x)\n",
    "        out = self.norm(out)\n",
    "        out = self.act(out)\n",
    "        out = self.dropout(out)\n",
    "        out = self.fc2(out)\n",
    "        return out\n",
    "    \n",
    "class Dataset(torch.utils.data.Dataset):\n",
    "    def __init__(self, x, y):\n",
    "        self.x = torch.tensor(x.to_numpy()).float()\n",
    "        self.y = torch.tensor(y).long()\n",
    "        \n",
    "    def __len__(self):\n",
    "        return len(self.x)\n",
    "    \n",
    "    def __getitem__(self, index):\n",
    "        return self.x[index], self.y[index]"
   ]
  },
  {
   "cell_type": "code",
   "execution_count": 116,
   "metadata": {},
   "outputs": [],
   "source": [
    "train_ds = Dataset(x_train, y_train)\n",
    "val_ds = Dataset(x_val, y_val)\n",
    "test_ds = Dataset(x_test, y_test)\n",
    "\n",
    "train_dl = torch.utils.data.DataLoader(train_ds, batch_size=32, shuffle=True)\n",
    "val_dl = torch.utils.data.DataLoader(val_ds, batch_size=32, shuffle=False)\n",
    "test_dl = torch.utils.data.DataLoader(test_ds, batch_size=32, shuffle=False)"
   ]
  },
  {
   "cell_type": "code",
   "execution_count": 117,
   "metadata": {},
   "outputs": [],
   "source": [
    "device = torch.device(\"cuda:0\" if torch.cuda.is_available() else \"cpu\")"
   ]
  },
  {
   "cell_type": "code",
   "execution_count": 118,
   "metadata": {},
   "outputs": [
    {
     "name": "stdout",
     "output_type": "stream",
     "text": [
      "Epoch 1/20, train_loss: 1.0693, val_loss: 1.0208, val_acc: 0.4972\n",
      "Epoch 2/20, train_loss: 1.0477, val_loss: 1.0293, val_acc: 0.4876\n",
      "Epoch 3/20, train_loss: 1.0469, val_loss: 1.0124, val_acc: 0.5018\n",
      "Epoch 4/20, train_loss: 1.0395, val_loss: 1.0194, val_acc: 0.5028\n",
      "Epoch 5/20, train_loss: 1.0317, val_loss: 1.0031, val_acc: 0.5084\n",
      "Epoch 6/20, train_loss: 1.0362, val_loss: 1.0090, val_acc: 0.5038\n",
      "Epoch 7/20, train_loss: 1.0330, val_loss: 1.0076, val_acc: 0.5099\n",
      "Epoch 8/20, train_loss: 1.0338, val_loss: 1.0137, val_acc: 0.5053\n",
      "Epoch 9/20, train_loss: 1.0220, val_loss: 1.0068, val_acc: 0.5048\n",
      "Epoch 10/20, train_loss: 1.0251, val_loss: 1.0048, val_acc: 0.5074\n",
      "Epoch 11/20, train_loss: 1.0252, val_loss: 1.0063, val_acc: 0.5043\n",
      "Epoch 12/20, train_loss: 1.0188, val_loss: 1.0015, val_acc: 0.5074\n",
      "Epoch 13/20, train_loss: 1.0221, val_loss: 1.0056, val_acc: 0.5048\n",
      "Epoch 14/20, train_loss: 1.0194, val_loss: 1.0006, val_acc: 0.5053\n",
      "Epoch 15/20, train_loss: 1.0178, val_loss: 1.0010, val_acc: 0.5063\n",
      "Epoch 16/20, train_loss: 1.0197, val_loss: 1.0022, val_acc: 0.5069\n",
      "Epoch 17/20, train_loss: 1.0193, val_loss: 1.0014, val_acc: 0.5058\n",
      "Epoch 18/20, train_loss: 1.0143, val_loss: 1.0011, val_acc: 0.5058\n",
      "Epoch 19/20, train_loss: 1.0194, val_loss: 1.0005, val_acc: 0.5048\n",
      "Epoch 20/20, train_loss: 1.0159, val_loss: 1.0004, val_acc: 0.5058\n"
     ]
    }
   ],
   "source": [
    "mlp = MLP(input_dim=x_train.shape[1], hidden_dim=8, output_dim=3).to(device)\n",
    "\n",
    "criterion = torch.nn.CrossEntropyLoss()\n",
    "optimizer = torch.optim.AdamW(mlp.parameters(), lr=0.001, weight_decay=0.01)\n",
    "\n",
    "n_epochs = 20\n",
    "scheduler = torch.optim.lr_scheduler.CosineAnnealingLR(optimizer, T_max=n_epochs, eta_min=0)\n",
    "train_losses = []\n",
    "train_accs = []\n",
    "val_losses = []\n",
    "val_accs = []\n",
    "\n",
    "best_model = None\n",
    "best_val_acc = 0\n",
    "\n",
    "for epoch in range(n_epochs):\n",
    "    mlp.train()\n",
    "    train_loss = 0\n",
    "    train_acc = 0\n",
    "    for x, y in train_dl:\n",
    "        x, y = x.to(device), y.to(device)\n",
    "        optimizer.zero_grad()\n",
    "        y_pred = mlp(x)\n",
    "        loss = criterion(y_pred, y)\n",
    "        loss.backward()\n",
    "        optimizer.step()\n",
    "        train_loss += loss.item()\n",
    "        train_acc += (y_pred.argmax(dim=1) == y).sum().item()\n",
    "    scheduler.step()\n",
    "    train_loss /= len(train_dl)\n",
    "    train_acc /= len(x_train)\n",
    "    train_losses.append(train_loss)\n",
    "    train_accs.append(train_acc)\n",
    "\n",
    "    mlp.eval()\n",
    "    val_loss = 0\n",
    "    val_acc = 0\n",
    "    for x, y in val_dl:\n",
    "        x, y = x.to(device), y.to(device)\n",
    "        y_pred = mlp(x)\n",
    "        loss = criterion(y_pred, y)\n",
    "        val_loss += loss.item()\n",
    "        val_acc += (y_pred.argmax(dim=1) == y).sum().item()\n",
    "    val_loss /= len(val_dl)\n",
    "    val_acc /= len(x_val)\n",
    "    val_losses.append(val_loss)\n",
    "    val_accs.append(val_acc)\n",
    "\n",
    "    if val_acc > best_val_acc:\n",
    "        best_val_acc = val_acc\n",
    "        best_model = mlp.state_dict()\n",
    "    \n",
    "    print(f\"Epoch {epoch+1}/{n_epochs}, train_loss: {train_loss:.4f}, val_loss: {val_loss:.4f}, val_acc: {val_acc:.4f}\")"
   ]
  },
  {
   "cell_type": "code",
   "execution_count": 119,
   "metadata": {},
   "outputs": [
    {
     "name": "stdout",
     "output_type": "stream",
     "text": [
      "Train accuracy: 0.3898\n",
      "Test accuracy: 0.5006\n",
      "Val accuracy: 0.5058\n"
     ]
    }
   ],
   "source": [
    "from sklearn.metrics import accuracy_score\n",
    "\n",
    "mlp.load_state_dict(best_model)\n",
    "\n",
    "mlp.eval()\n",
    "y_pred = []\n",
    "for x, y in train_dl:\n",
    "    x, y = x.to(device), y.to(device)\n",
    "    y_pred.append(torch.argmax(mlp(x), dim=1).cpu().numpy())\n",
    "\n",
    "y_pred = np.concatenate(y_pred)\n",
    "accuracy = accuracy_score(y_train, y_pred)\n",
    "print(f\"Train accuracy: {accuracy:.4f}\")\n",
    "\n",
    "y_pred = []\n",
    "for x, y in test_dl:\n",
    "    x, y = x.to(device), y.to(device)\n",
    "    y_pred.append(torch.argmax(mlp(x), dim=1).cpu().numpy())\n",
    "\n",
    "y_pred = np.concatenate(y_pred)\n",
    "accuracy = accuracy_score(y_test, y_pred)\n",
    "print(f\"Test accuracy: {accuracy:.4f}\")\n",
    "\n",
    "y_pred = []\n",
    "for x, y in val_dl:\n",
    "    x, y = x.to(device), y.to(device)\n",
    "    y_pred.append(torch.argmax(mlp(x), dim=1).cpu().numpy())\n",
    "\n",
    "y_pred = np.concatenate(y_pred)\n",
    "accuracy = accuracy_score(y_val, y_pred)\n",
    "print(f\"Val accuracy: {accuracy:.4f}\")"
   ]
  },
  {
   "cell_type": "code",
   "execution_count": 111,
   "metadata": {},
   "outputs": [],
   "source": [
    "y_pred = mlp(torch.tensor(x_val.to_numpy()).float().to(device))"
   ]
  },
  {
   "cell_type": "code",
   "execution_count": 101,
   "metadata": {},
   "outputs": [
    {
     "data": {
      "image/png": "[encoded data removed]",
      "text/plain": [
       "<Figure size 640x480 with 2 Axes>"
      ]
     },
     "metadata": {},
     "output_type": "display_data"
    }
   ],
   "source": [
    "fig, ax = plt.subplots()\n",
    "\n",
    "ax.plot(train_losses, label=\"train\")\n",
    "ax.plot(val_losses, label=\"val\")\n",
    "plt.legend()\n",
    "\n",
    "ax2 = ax.twinx()\n",
    "ax2.plot(val_accs, label=\"val_acc\", color='green')\n",
    "plt.legend()\n",
    "plt.show()"
   ]
  },
  {
   "cell_type": "code",
   "execution_count": 104,
   "metadata": {},
   "outputs": [],
   "source": [
    "from src.postprocessing import compute_prediction, save_predictions\n",
    "\n",
    "team_statistics = load_team_data(train=False)\n",
    "player_statistics = load_agg_player_data(train=False)\n",
    "\n",
    "x_test = pd.concat([team_statistics, player_statistics], axis=1, join='inner')\n",
    "x_test = remove_name_columns(x_test)\n",
    "x_test, _, _ = impute_missing_values(x_test, imputer=imputer, numeric_columns=numeric_columns)\n",
    "x_test, _ = remove_na_columns(x_test, non_na_columns=non_na_columns)\n",
    "\n",
    "x_test = x_test[columns_to_keep]\n",
    "\n",
    "x_test_tensor = torch.tensor(x_test.to_numpy()).float().to(device)\n",
    "y_pred = torch.argmax(mlp(x_test_tensor), dim=1).cpu().numpy()\n",
    "predictions = compute_prediction(y_pred, x_test)\n",
    "\n",
    "save_predictions(predictions, \"mlp.csv\")"
   ]
  },
  {
   "cell_type": "code",
   "execution_count": 107,
   "metadata": {},
   "outputs": [],
   "source": [
    "y_val_draw_mask = y_val == 1\n",
    "\n",
    "x_val_draw = x_val[y_val_draw_mask]\n",
    "\n",
    "x_val_draw_tensor = torch.tensor(x_val_draw.to_numpy()).float().to(device)\n",
    "y = torch.functional.F.softmax(mlp(x_val_draw_tensor), dim=1).cpu().detach().numpy()"
   ]
  }
 ],
 "metadata": {
  "kernelspec": {
   "display_name": "Python 3",
   "language": "python",
   "name": "python3"
  },
  "language_info": {
   "codemirror_mode": {
    "name": "ipython",
    "version": 3
   },
   "file_extension": ".py",
   "mimetype": "text/x-python",
   "name": "python",
   "nbconvert_exporter": "python",
   "pygments_lexer": "ipython3",
   "version": "3.10.5"
  }
 },
 "nbformat": 4,
 "nbformat_minor": 2
}
