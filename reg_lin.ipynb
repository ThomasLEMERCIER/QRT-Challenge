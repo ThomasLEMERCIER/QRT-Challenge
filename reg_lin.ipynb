{
 "cells": [
  {
   "cell_type": "code",
   "execution_count": 1,
   "metadata": {},
   "outputs": [],
   "source": [
    "%load_ext autoreload\n",
    "%autoreload 2"
   ]
  },
  {
   "cell_type": "code",
   "execution_count": 2,
   "metadata": {},
   "outputs": [],
   "source": [
    "import numpy as np\n",
    "import matplotlib.pyplot as plt\n",
    "import seaborn as sns\n",
    "import pandas as pd"
   ]
  },
  {
   "cell_type": "code",
   "execution_count": 49,
   "metadata": {},
   "outputs": [],
   "source": [
    "from src.dataset import load_team_data, load_agg_player_data\n",
    "from src.preprocessing import impute_missing_values, split_data, remove_name_columns, encode_target_variable, remove_na_columns, find_knee_point\n",
    "\n",
    "team_statistics, y = load_team_data()\n",
    "player_statistics = load_agg_player_data()\n",
    "x = pd.concat([team_statistics, player_statistics], axis=1, join='inner')\n",
    "\n",
    "x = remove_name_columns(x)\n",
    "y = encode_target_variable(y)\n",
    "(x_train, y_train), (x_val, y_val), (x_test, y_test) = split_data(x, y)\n",
    "\n",
    "x_train, imputer, numeric_columns = impute_missing_values(x_train)\n",
    "x_val, _, _ = impute_missing_values(x_val, imputer=imputer, numeric_columns=numeric_columns)\n",
    "x_test, _, _ = impute_missing_values(x_test, imputer=imputer, numeric_columns=numeric_columns)\n",
    "\n",
    "x_train, non_na_columns = remove_na_columns(x_train)\n",
    "x_val, _ = remove_na_columns(x_val, non_na_columns=non_na_columns)\n",
    "x_test, _ = remove_na_columns(x_test, non_na_columns=non_na_columns)\n",
    "\n",
    "y_train = y_train.to_numpy().flatten()\n",
    "y_val = y_val.to_numpy().flatten()\n",
    "y_test = y_test.to_numpy().flatten()"
   ]
  },
  {
   "cell_type": "code",
   "execution_count": 50,
   "metadata": {},
   "outputs": [
    {
     "data": {
      "text/html": [
       "<style>#sk-container-id-4 {color: black;}#sk-container-id-4 pre{padding: 0;}#sk-container-id-4 div.sk-toggleable {background-color: white;}#sk-container-id-4 label.sk-toggleable__label {cursor: pointer;display: block;width: 100%;margin-bottom: 0;padding: 0.3em;box-sizing: border-box;text-align: center;}#sk-container-id-4 label.sk-toggleable__label-arrow:before {content: \"▸\";float: left;margin-right: 0.25em;color: #696969;}#sk-container-id-4 label.sk-toggleable__label-arrow:hover:before {color: black;}#sk-container-id-4 div.sk-estimator:hover label.sk-toggleable__label-arrow:before {color: black;}#sk-container-id-4 div.sk-toggleable__content {max-height: 0;max-width: 0;overflow: hidden;text-align: left;background-color: #f0f8ff;}#sk-container-id-4 div.sk-toggleable__content pre {margin: 0.2em;color: black;border-radius: 0.25em;background-color: #f0f8ff;}#sk-container-id-4 input.sk-toggleable__control:checked~div.sk-toggleable__content {max-height: 200px;max-width: 100%;overflow: auto;}#sk-container-id-4 input.sk-toggleable__control:checked~label.sk-toggleable__label-arrow:before {content: \"▾\";}#sk-container-id-4 div.sk-estimator input.sk-toggleable__control:checked~label.sk-toggleable__label {background-color: #d4ebff;}#sk-container-id-4 div.sk-label input.sk-toggleable__control:checked~label.sk-toggleable__label {background-color: #d4ebff;}#sk-container-id-4 input.sk-hidden--visually {border: 0;clip: rect(1px 1px 1px 1px);clip: rect(1px, 1px, 1px, 1px);height: 1px;margin: -1px;overflow: hidden;padding: 0;position: absolute;width: 1px;}#sk-container-id-4 div.sk-estimator {font-family: monospace;background-color: #f0f8ff;border: 1px dotted black;border-radius: 0.25em;box-sizing: border-box;margin-bottom: 0.5em;}#sk-container-id-4 div.sk-estimator:hover {background-color: #d4ebff;}#sk-container-id-4 div.sk-parallel-item::after {content: \"\";width: 100%;border-bottom: 1px solid gray;flex-grow: 1;}#sk-container-id-4 div.sk-label:hover label.sk-toggleable__label {background-color: #d4ebff;}#sk-container-id-4 div.sk-serial::before {content: \"\";position: absolute;border-left: 1px solid gray;box-sizing: border-box;top: 0;bottom: 0;left: 50%;z-index: 0;}#sk-container-id-4 div.sk-serial {display: flex;flex-direction: column;align-items: center;background-color: white;padding-right: 0.2em;padding-left: 0.2em;position: relative;}#sk-container-id-4 div.sk-item {position: relative;z-index: 1;}#sk-container-id-4 div.sk-parallel {display: flex;align-items: stretch;justify-content: center;background-color: white;position: relative;}#sk-container-id-4 div.sk-item::before, #sk-container-id-4 div.sk-parallel-item::before {content: \"\";position: absolute;border-left: 1px solid gray;box-sizing: border-box;top: 0;bottom: 0;left: 50%;z-index: -1;}#sk-container-id-4 div.sk-parallel-item {display: flex;flex-direction: column;z-index: 1;position: relative;background-color: white;}#sk-container-id-4 div.sk-parallel-item:first-child::after {align-self: flex-end;width: 50%;}#sk-container-id-4 div.sk-parallel-item:last-child::after {align-self: flex-start;width: 50%;}#sk-container-id-4 div.sk-parallel-item:only-child::after {width: 0;}#sk-container-id-4 div.sk-dashed-wrapped {border: 1px dashed gray;margin: 0 0.4em 0.5em 0.4em;box-sizing: border-box;padding-bottom: 0.4em;background-color: white;}#sk-container-id-4 div.sk-label label {font-family: monospace;font-weight: bold;display: inline-block;line-height: 1.2em;}#sk-container-id-4 div.sk-label-container {text-align: center;}#sk-container-id-4 div.sk-container {/* jupyter's `normalize.less` sets `[hidden] { display: none; }` but bootstrap.min.css set `[hidden] { display: none !important; }` so we also need the `!important` here to be able to override the default hidden behavior on the sphinx rendered scikit-learn.org. See: https://github.com/scikit-learn/scikit-learn/issues/21755 */display: inline-block !important;position: relative;}#sk-container-id-4 div.sk-text-repr-fallback {display: none;}</style><div id=\"sk-container-id-4\" class=\"sk-top-container\"><div class=\"sk-text-repr-fallback\"><pre>LogisticRegression(C=1, l1_ratio=0.5, max_iter=2000, penalty=&#x27;elasticnet&#x27;,\n",
       "                   random_state=42, solver=&#x27;saga&#x27;)</pre><b>In a Jupyter environment, please rerun this cell to show the HTML representation or trust the notebook. <br />On GitHub, the HTML representation is unable to render, please try loading this page with nbviewer.org.</b></div><div class=\"sk-container\" hidden><div class=\"sk-item\"><div class=\"sk-estimator sk-toggleable\"><input class=\"sk-toggleable__control sk-hidden--visually\" id=\"sk-estimator-id-4\" type=\"checkbox\" checked><label for=\"sk-estimator-id-4\" class=\"sk-toggleable__label sk-toggleable__label-arrow\">LogisticRegression</label><div class=\"sk-toggleable__content\"><pre>LogisticRegression(C=1, l1_ratio=0.5, max_iter=2000, penalty=&#x27;elasticnet&#x27;,\n",
       "                   random_state=42, solver=&#x27;saga&#x27;)</pre></div></div></div></div></div>"
      ],
      "text/plain": [
       "LogisticRegression(C=1, l1_ratio=0.5, max_iter=2000, penalty='elasticnet',\n",
       "                   random_state=42, solver='saga')"
      ]
     },
     "execution_count": 50,
     "metadata": {},
     "output_type": "execute_result"
    }
   ],
   "source": [
    "from sklearn.feature_selection import SelectKBest, mutual_info_regression\n",
    "\n",
    "# === Compute mutual information between features and target variable ===\n",
    "scores = mutual_info_regression(x_train, y_train)\n",
    "\n",
    "\n",
    "order = np.argsort(scores)[::-1]\n",
    "scores_sorted = scores[order]\n",
    "\n",
    "k = 10\n",
    "knee_indices = [find_knee_point(scores_sorted)]\n",
    "\n",
    "for i in range(k-1):\n",
    "    knee_indices.append(find_knee_point(scores_sorted[knee_indices[i]:]) + knee_indices[i])\n",
    "# =======================================================================\n",
    "\n",
    "# === Extract best features ===\n",
    "index_knee = 3\n",
    "columns_selected = x_train.columns[order[:knee_indices[index_knee]]]\n",
    "\n",
    "features = list(columns_selected)\n",
    "features = set([feature[5:] for feature in features])\n",
    "\n",
    "columns_to_keep = [\"HOME_\" + feature for feature in features] + [\"AWAY_\" + feature for feature in features]\n",
    "\n",
    "x_train = x_train[columns_to_keep]\n",
    "x_val = x_val[columns_to_keep]\n",
    "x_test = x_test[columns_to_keep]\n",
    "# =============================\n",
    "\n",
    "# === Define model parameters ===\n",
    "l1_ratio = 0.5\n",
    "C = 1\n",
    "multi_class = \"auto\"\n",
    "# ===============================\n",
    "\n",
    "# === Train model ===\n",
    "from sklearn.linear_model import LogisticRegression\n",
    "model = LogisticRegression(penalty=\"elasticnet\", solver=\"saga\", l1_ratio=l1_ratio, C=C, max_iter=2000, multi_class=multi_class, random_state=42)\n",
    "model.fit(x_train, y_train)"
   ]
  },
  {
   "cell_type": "code",
   "execution_count": 51,
   "metadata": {},
   "outputs": [
    {
     "data": {
      "image/png": "[encoded data removed]",
      "text/plain": [
       "<Figure size 640x480 with 1 Axes>"
      ]
     },
     "metadata": {},
     "output_type": "display_data"
    }
   ],
   "source": [
    "import seaborn as sns\n",
    "import matplotlib.pyplot as plt\n",
    "\n",
    "sns.histplot(model.predict(x_val))\n",
    "plt.show()"
   ]
  },
  {
   "cell_type": "code",
   "execution_count": 55,
   "metadata": {},
   "outputs": [],
   "source": [
    "import numpy as np\n",
    "\n",
    "team_statistics, y = load_team_data()\n",
    "player_statistics = load_agg_player_data()\n",
    "x = pd.concat([team_statistics, player_statistics], axis=1, join='inner')\n",
    "\n",
    "x = remove_name_columns(x)\n",
    "y = encode_target_variable(y)\n",
    "(x_train, y_train), (x_val, y_val), (x_test, y_test) = split_data(x, y)\n",
    "\n",
    "x_train, imputer, numeric_columns = impute_missing_values(x_train)\n",
    "x_val, _, _ = impute_missing_values(x_val, imputer=imputer, numeric_columns=numeric_columns)\n",
    "x_test, _, _ = impute_missing_values(x_test, imputer=imputer, numeric_columns=numeric_columns)\n",
    "\n",
    "x_train, non_na_columns = remove_na_columns(x_train)\n",
    "x_val, _ = remove_na_columns(x_val, non_na_columns=non_na_columns)\n",
    "x_test, _ = remove_na_columns(x_test, non_na_columns=non_na_columns)\n",
    "\n",
    "y_train = y_train.to_numpy().flatten()\n",
    "y_val = y_val.to_numpy().flatten()\n",
    "y_test = y_test.to_numpy().flatten()\n",
    "\n",
    "scores = mutual_info_regression(x_train, y_train)\n",
    "np.save(\"features_importance_mutual_info_based.npy\", scores)"
   ]
  }
 ],
 "metadata": {
  "kernelspec": {
   "display_name": "Python 3",
   "language": "python",
   "name": "python3"
  },
  "language_info": {
   "codemirror_mode": {
    "name": "ipython",
    "version": 3
   },
   "file_extension": ".py",
   "mimetype": "text/x-python",
   "name": "python",
   "nbconvert_exporter": "python",
   "pygments_lexer": "ipython3",
   "version": "3.10.5"
  }
 },
 "nbformat": 4,
 "nbformat_minor": 2
}
