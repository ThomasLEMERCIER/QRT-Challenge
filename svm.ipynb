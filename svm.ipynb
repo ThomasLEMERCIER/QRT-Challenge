{
 "cells": [
  {
   "cell_type": "code",
   "execution_count": 1,
   "metadata": {},
   "outputs": [],
   "source": [
    "%load_ext autoreload\n",
    "%autoreload 2"
   ]
  },
  {
   "cell_type": "code",
   "execution_count": 2,
   "metadata": {},
   "outputs": [],
   "source": [
    "import numpy as np\n",
    "import matplotlib.pyplot as plt\n",
    "import seaborn as sns\n",
    "import pandas as pd"
   ]
  },
  {
   "cell_type": "code",
   "execution_count": 3,
   "metadata": {},
   "outputs": [],
   "source": [
    "from src.dataset import load_team_data, load_agg_player_data\n",
    "from src.preprocessing import impute_missing_values, split_data, remove_name_columns, encode_target_variable, remove_na_columns, find_knee_point\n",
    "\n",
    "team_statistics, y = load_team_data()\n",
    "player_statistics = load_agg_player_data()\n",
    "x = pd.concat([team_statistics, player_statistics], axis=1, join='inner')\n",
    "\n",
    "x = remove_name_columns(x)\n",
    "y = encode_target_variable(y)\n",
    "(x_train, y_train), (x_val, y_val), (x_test, y_test) = split_data(x, y)\n",
    "\n",
    "x_train, imputer, numeric_columns = impute_missing_values(x_train)\n",
    "x_val, _, _ = impute_missing_values(x_val, imputer=imputer, numeric_columns=numeric_columns)\n",
    "x_test, _, _ = impute_missing_values(x_test, imputer=imputer, numeric_columns=numeric_columns)\n",
    "\n",
    "x_train, non_na_columns = remove_na_columns(x_train)\n",
    "x_val, _ = remove_na_columns(x_val, non_na_columns=non_na_columns)\n",
    "x_test, _ = remove_na_columns(x_test, non_na_columns=non_na_columns)\n",
    "\n",
    "y_train = y_train.to_numpy().flatten()\n",
    "y_val = y_val.to_numpy().flatten()\n",
    "y_test = y_test.to_numpy().flatten()"
   ]
  },
  {
   "cell_type": "code",
   "execution_count": 4,
   "metadata": {},
   "outputs": [],
   "source": [
    "# x_train_clean = x_train.copy()\n",
    "# x_val_clean = x_val.copy()\n",
    "# x_test_clean = x_test.copy()"
   ]
  },
  {
   "cell_type": "code",
   "execution_count": 29,
   "metadata": {},
   "outputs": [],
   "source": [
    "x_train = x_train_clean.copy()\n",
    "x_val = x_val_clean.copy()\n",
    "x_test = x_test_clean.copy()"
   ]
  },
  {
   "cell_type": "code",
   "execution_count": 30,
   "metadata": {},
   "outputs": [],
   "source": [
    "# === Load mutual information feature ===\n",
    "scores = np.load(\"features_importance_mutual_info_based.npy\")\n",
    "\n",
    "order = np.argsort(scores)[::-1]\n",
    "scores_sorted = scores[order]\n",
    "\n",
    "k = 10\n",
    "knee_indices = [find_knee_point(scores_sorted)]\n",
    "\n",
    "for i in range(k-1):\n",
    "    knee_indices.append(find_knee_point(scores_sorted[knee_indices[i]:]) + knee_indices[i])\n",
    "# =======================================\n",
    "    \n",
    "# === Extract best features ===\n",
    "index_knee = 2\n",
    "columns_selected = x_train.columns[order[:knee_indices[index_knee]]]\n",
    "\n",
    "features = list(columns_selected)\n",
    "features = set([feature[5:] for feature in features])\n",
    "\n",
    "columns_to_keep = [\"HOME_\" + feature for feature in features] + [\"AWAY_\" + feature for feature in features]\n",
    "\n",
    "# x_train = x_train[columns_to_keep]\n",
    "# x_val = x_val[columns_to_keep]\n",
    "# x_test = x_test[columns_to_keep]\n",
    "# ============================="
   ]
  },
  {
   "cell_type": "code",
   "execution_count": 31,
   "metadata": {},
   "outputs": [],
   "source": [
    "from src.preprocessing import data_augmentation\n",
    "\n",
    "best_features = pd.read_csv('best_features_team_agg_based.csv').values.flatten()\n",
    "\n",
    "x_train = data_augmentation(x_train, best_features)\n",
    "x_val = data_augmentation(x_val, best_features)\n",
    "x_test = data_augmentation(x_test, best_features)\n",
    "\n",
    "best_features = list(best_features)"
   ]
  },
  {
   "cell_type": "code",
   "execution_count": 32,
   "metadata": {},
   "outputs": [],
   "source": [
    "columns_to_keep = columns_to_keep + [best_feature + \"_DIFF\" for best_feature in best_features] + [\"HOME_\" + best_feature for best_feature in best_features] + [\"AWAY_\" + best_feature for best_feature in best_features]\n",
    "columns_to_keep = list(set(columns_to_keep))"
   ]
  },
  {
   "cell_type": "code",
   "execution_count": 33,
   "metadata": {},
   "outputs": [],
   "source": [
    "x_train = x_train[columns_to_keep]\n",
    "x_val = x_val[columns_to_keep]\n",
    "x_test = x_test[columns_to_keep]"
   ]
  },
  {
   "cell_type": "code",
   "execution_count": 35,
   "metadata": {},
   "outputs": [
    {
     "name": "stdout",
     "output_type": "stream",
     "text": [
      "Train accuracy:  0.4985393115711927\n",
      "Validation accuracy:  0.505332656170645\n",
      "Test accuracy:  0.5026412027631044\n"
     ]
    }
   ],
   "source": [
    "from sklearn.svm import SVC\n",
    "\n",
    "model = SVC(kernel='linear', C=1, random_state=42)\n",
    "model.fit(x_train, y_train)\n",
    "\n",
    "print(\"Train accuracy: \", model.score(x_train, y_train))\n",
    "print(\"Validation accuracy: \", model.score(x_val, y_val))\n",
    "print(\"Test accuracy: \", model.score(x_test, y_test))"
   ]
  },
  {
   "cell_type": "code",
   "execution_count": null,
   "metadata": {},
   "outputs": [],
   "source": [
    "# Train accuracy:  0.4921884923155087\n",
    "# Validation accuracy:  0.5063484002031488\n",
    "# Test accuracy:  0.4965461194636327"
   ]
  },
  {
   "cell_type": "code",
   "execution_count": 36,
   "metadata": {},
   "outputs": [
    {
     "name": "stdout",
     "output_type": "stream",
     "text": [
      "Train accuracy:  0.4946018036326686\n",
      "Validation accuracy:  0.5038090401218893\n",
      "Test accuracy:  0.4973587972368956\n"
     ]
    }
   ],
   "source": [
    "from sklearn.svm import SVC\n",
    "\n",
    "model = SVC(kernel='rbf', C=1, random_state=42)\n",
    "model.fit(x_train, y_train)\n",
    "\n",
    "print(\"Train accuracy: \", model.score(x_train, y_train))\n",
    "print(\"Validation accuracy: \", model.score(x_val, y_val))\n",
    "print(\"Test accuracy: \", model.score(x_test, y_test))"
   ]
  },
  {
   "cell_type": "code",
   "execution_count": 37,
   "metadata": {},
   "outputs": [
    {
     "name": "stdout",
     "output_type": "stream",
     "text": [
      "Train accuracy:  0.49193445954528137\n",
      "Validation accuracy:  0.505332656170645\n",
      "Test accuracy:  0.4973587972368956\n"
     ]
    }
   ],
   "source": [
    "from sklearn.svm import SVC\n",
    "\n",
    "model = SVC(kernel='poly', C=1, random_state=42, degree=2)\n",
    "model.fit(x_train, y_train)\n",
    "\n",
    "print(\"Train accuracy: \", model.score(x_train, y_train))\n",
    "print(\"Validation accuracy: \", model.score(x_val, y_val))\n",
    "print(\"Test accuracy: \", model.score(x_test, y_test))"
   ]
  },
  {
   "cell_type": "code",
   "execution_count": 38,
   "metadata": {},
   "outputs": [
    {
     "name": "stdout",
     "output_type": "stream",
     "text": [
      "Train accuracy:  0.4915534103899403\n",
      "Validation accuracy:  0.5007618080243779\n",
      "Test accuracy:  0.4924827305973182\n"
     ]
    }
   ],
   "source": [
    "from sklearn.svm import SVC\n",
    "\n",
    "model = SVC(kernel='poly', C=1, random_state=42, degree=3)\n",
    "model.fit(x_train, y_train)\n",
    "\n",
    "print(\"Train accuracy: \", model.score(x_train, y_train))\n",
    "print(\"Validation accuracy: \", model.score(x_val, y_val))\n",
    "print(\"Test accuracy: \", model.score(x_test, y_test))"
   ]
  },
  {
   "cell_type": "code",
   "execution_count": 39,
   "metadata": {},
   "outputs": [
    {
     "name": "stdout",
     "output_type": "stream",
     "text": [
      "Train accuracy:  0.5085736059951734\n",
      "Validation accuracy:  0.494667343829355\n",
      "Test accuracy:  0.4880130028443722\n"
     ]
    }
   ],
   "source": [
    "from sklearn.svm import SVC\n",
    "\n",
    "model = SVC(kernel='poly', C=1, random_state=42, degree=5)\n",
    "model.fit(x_train, y_train)\n",
    "\n",
    "print(\"Train accuracy: \", model.score(x_train, y_train))\n",
    "print(\"Validation accuracy: \", model.score(x_val, y_val))\n",
    "\n",
    "print(\"Test accuracy: \", model.score(x_test, y_test))"
   ]
  },
  {
   "cell_type": "code",
   "execution_count": 41,
   "metadata": {},
   "outputs": [
    {
     "name": "stdout",
     "output_type": "stream",
     "text": [
      "Train accuracy:  0.4966340657944875\n",
      "Validation accuracy:  0.505840528186897\n",
      "Test accuracy:  0.4997968305566843\n"
     ]
    }
   ],
   "source": [
    "from sklearn.svm import SVC\n",
    "\n",
    "model = SVC(kernel='poly', C=1, random_state=42, degree=1)\n",
    "model.fit(x_train, y_train)\n",
    "\n",
    "print(\"Train accuracy: \", model.score(x_train, y_train))\n",
    "print(\"Validation accuracy: \", model.score(x_val, y_val))\n",
    "print(\"Test accuracy: \", model.score(x_test, y_test))"
   ]
  },
  {
   "cell_type": "code",
   "execution_count": 42,
   "metadata": {},
   "outputs": [
    {
     "name": "stdout",
     "output_type": "stream",
     "text": [
      "Train accuracy:  0.40492823574241077\n",
      "Validation accuracy:  0.40832910106653125\n",
      "Test accuracy:  0.41202763104429097\n"
     ]
    }
   ],
   "source": [
    "from sklearn.svm import SVC\n",
    "\n",
    "model = SVC(kernel='sigmoid', C=1, random_state=42)\n",
    "model.fit(x_train, y_train)\n",
    "\n",
    "print(\"Train accuracy: \", model.score(x_train, y_train))\n",
    "print(\"Validation accuracy: \", model.score(x_val, y_val))\n",
    "print(\"Test accuracy: \", model.score(x_test, y_test))"
   ]
  },
  {
   "cell_type": "code",
   "execution_count": null,
   "metadata": {},
   "outputs": [],
   "source": []
  }
 ],
 "metadata": {
  "kernelspec": {
   "display_name": "Python 3",
   "language": "python",
   "name": "python3"
  },
  "language_info": {
   "codemirror_mode": {
    "name": "ipython",
    "version": 3
   },
   "file_extension": ".py",
   "mimetype": "text/x-python",
   "name": "python",
   "nbconvert_exporter": "python",
   "pygments_lexer": "ipython3",
   "version": "3.10.5"
  }
 },
 "nbformat": 4,
 "nbformat_minor": 2
}
