{
 "cells": [
  {
   "cell_type": "code",
   "execution_count": null,
   "metadata": {},
   "outputs": [],
   "source": [
    "%load_ext autoreload\n",
    "%autoreload 2"
   ]
  },
  {
   "cell_type": "code",
   "execution_count": 36,
   "metadata": {},
   "outputs": [],
   "source": [
    "import numpy as np\n",
    "import matplotlib.pyplot as plt\n",
    "import seaborn as sns\n",
    "import pandas as pd\n",
    "import xgboost as xgb\n"
   ]
  },
  {
   "cell_type": "code",
   "execution_count": 149,
   "metadata": {},
   "outputs": [],
   "source": [
    "from src.dataset import load_data\n",
    "from src.preprocessing import impute_missing_values, split_data, remove_name_columns, encode_target_variable\n",
    "\n",
    "x, y = load_data()\n",
    "x = remove_name_columns(x)\n",
    "y = encode_target_variable(y)\n",
    "(x_train, y_train), (x_val, y_val), (x_test, y_test) = split_data(x, y)\n",
    "\n",
    "x_train, imputer = impute_missing_values(x_train)\n",
    "x_val, _ = impute_missing_values(x_val, imputer=imputer)\n",
    "x_test, _ = impute_missing_values(x_test, imputer=imputer)"
   ]
  },
  {
   "cell_type": "code",
   "execution_count": 158,
   "metadata": {},
   "outputs": [],
   "source": [
    "xgb_params = {\n",
    "    \"booster\": \"gbtree\",\n",
    "    \"device\": \"cpu\",\n",
    "\n",
    "    \"eta\": 0.3,\n",
    "    \"gamma\": 0,\n",
    "    \"max_depth\": 6,\n",
    "    \"lambda\": 1,\n",
    "    \"alpha\": 0,\n",
    "\n",
    "    \"objective\": \"multi:softmax\",\n",
    "    \"num_class\": 3,\n",
    "    \"eval_metric\": \"merror\",\n",
    "\n",
    "    \"verbosity\": 0,\n",
    "}\n",
    "\n",
    "num_boost_round = 1000\n",
    "early_stopping_rounds = 10\n",
    "\n",
    "dtrain = xgb.DMatrix(x_train, label=y_train)\n",
    "dval = xgb.DMatrix(x_val, label=y_val)\n",
    "dtest = xgb.DMatrix(x_test, label=y_test)\n",
    "\n",
    "evals = [(dtrain, \"train\"), (dval, \"val\")]\n",
    "\n",
    "bst = xgb.train(xgb_params, dtrain, num_boost_round=num_boost_round, evals=evals, early_stopping_rounds=early_stopping_rounds, verbose_eval=False)"
   ]
  },
  {
   "cell_type": "code",
   "execution_count": 159,
   "metadata": {},
   "outputs": [
    {
     "name": "stdout",
     "output_type": "stream",
     "text": [
      "Validation accuracy: 0.4901\n",
      "Test accuracy: 0.4807\n"
     ]
    }
   ],
   "source": [
    "from src.evaluate import evaluate_model\n",
    "\n",
    "acc_val = evaluate_model(bst, dval, y_val)\n",
    "acc_test = evaluate_model(bst, dtest, y_test)\n",
    "\n",
    "print(f\"Validation accuracy: {acc_val:.4f}\")\n",
    "print(f\"Test accuracy: {acc_test:.4f}\")"
   ]
  },
  {
   "cell_type": "code",
   "execution_count": 147,
   "metadata": {},
   "outputs": [],
   "source": [
    "from src.postprocessing import  compute_prediction, save_predictions\n",
    "\n",
    "x_test = load_data(train=False)\n",
    "\n",
    "x_test = remove_name_columns(x_test)\n",
    "x_test, _ = impute_missing_values(x_test, imputer=imputer)\n",
    "\n",
    "dtest = xgb.DMatrix(x_test)\n",
    "\n",
    "y_pred = bst.predict(dtest, iteration_range=(0, bst.best_iteration))\n",
    "predictions = compute_prediction(y_pred, x_test)\n",
    "\n",
    "save_predictions(predictions, \"xgboost.csv\")"
   ]
  },
  {
   "cell_type": "code",
   "execution_count": null,
   "metadata": {},
   "outputs": [],
   "source": []
  }
 ],
 "metadata": {
  "kernelspec": {
   "display_name": "Python 3",
   "language": "python",
   "name": "python3"
  },
  "language_info": {
   "codemirror_mode": {
    "name": "ipython",
    "version": 3
   },
   "file_extension": ".py",
   "mimetype": "text/x-python",
   "name": "python",
   "nbconvert_exporter": "python",
   "pygments_lexer": "ipython3",
   "version": "3.10.5"
  }
 },
 "nbformat": 4,
 "nbformat_minor": 2
}
