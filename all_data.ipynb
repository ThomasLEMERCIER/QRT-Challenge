{
 "cells": [
  {
   "cell_type": "code",
   "execution_count": 1,
   "metadata": {},
   "outputs": [],
   "source": [
    "%load_ext autoreload\n",
    "%autoreload 2"
   ]
  },
  {
   "cell_type": "code",
   "execution_count": 2,
   "metadata": {},
   "outputs": [],
   "source": [
    "import numpy as np\n",
    "import matplotlib.pyplot as plt\n",
    "import seaborn as sns\n",
    "import pandas as pd\n",
    "import xgboost as xgb"
   ]
  },
  {
   "cell_type": "code",
   "execution_count": 79,
   "metadata": {},
   "outputs": [],
   "source": [
    "from src.dataset import load_team_data, load_agg_player_data\n",
    "from src.preprocessing import impute_missing_values, split_data, remove_name_columns, encode_target_variable\n",
    "\n",
    "team_statistics, y = load_team_data()\n",
    "player_statistics = load_agg_player_data()\n",
    "\n",
    "x = pd.concat([team_statistics, player_statistics], axis=1, join='inner')"
   ]
  },
  {
   "cell_type": "code",
   "execution_count": 80,
   "metadata": {},
   "outputs": [],
   "source": [
    "x = remove_name_columns(x)\n",
    "y = encode_target_variable(y)\n",
    "(x_train, y_train), (x_val, y_val), (x_test, y_test) = split_data(x, y)\n",
    "\n",
    "x_train, imputer, columns = impute_missing_values(x_train)\n",
    "x_val, _, _ = impute_missing_values(x_val, imputer=imputer, numeric_columns=columns)\n",
    "x_test, _, _ = impute_missing_values(x_test, imputer=imputer, numeric_columns=columns)"
   ]
  },
  {
   "cell_type": "code",
   "execution_count": 81,
   "metadata": {},
   "outputs": [],
   "source": [
    "#--colsample_bylevel=0.21270862659553913 --colsample_bynode=0.3425437174862951 --colsample_bytree=0.5109253108234333 --early_stopping_rounds=8 --eta=0.28997103267508106 --gamma=0.17127497737359776 --l1_reg=0.03016313633404244 --l2_reg=1.9098450598114027 --max_depth=14 --max_leaves=3 --min_child_weight=0.971287126583725 --num_boost_round=961 --subsample=0.6839398034341768\n",
    "sweep_result = {\n",
    "    \"colsample_bylevel\": 0.21270862659553913,\n",
    "    \"colsample_bynode\": 0.3425437174862951,\n",
    "    \"colsample_bytree\": 0.5109253108234333,\n",
    "    \"eta\": 0.28997103267508106,\n",
    "    \"gamma\": 0.17127497737359776,\n",
    "    \"alpha\": 0.03016313633404244,\n",
    "    \"lambda\": 1.9098450598114027,\n",
    "    \"max_depth\": 14,\n",
    "    \"max_leaves\": 3,\n",
    "    \"min_child_weight\": 0.971287126583725,\n",
    "    \"subsample\": 0.6839398034341768\n",
    "\n",
    "}\n",
    "num_boost_round_sweep= 961\n",
    "early_stopping_rounds_sweep= 8"
   ]
  },
  {
   "cell_type": "code",
   "execution_count": 82,
   "metadata": {},
   "outputs": [
    {
     "name": "stdout",
     "output_type": "stream",
     "text": [
      "[0]\ttrain-merror:0.52852\tval-merror:0.52006\n",
      "[1]\ttrain-merror:0.52445\tval-merror:0.51397\n",
      "[2]\ttrain-merror:0.52458\tval-merror:0.50990\n",
      "[3]\ttrain-merror:0.52369\tval-merror:0.50482\n",
      "[4]\ttrain-merror:0.52166\tval-merror:0.50787\n",
      "[5]\ttrain-merror:0.51962\tval-merror:0.50533\n",
      "[6]\ttrain-merror:0.51759\tval-merror:0.50127\n",
      "[7]\ttrain-merror:0.51670\tval-merror:0.50076\n",
      "[8]\ttrain-merror:0.51492\tval-merror:0.49975\n",
      "[9]\ttrain-merror:0.51454\tval-merror:0.49619\n",
      "[10]\ttrain-merror:0.51061\tval-merror:0.49467\n",
      "[11]\ttrain-merror:0.51061\tval-merror:0.49314\n",
      "[12]\ttrain-merror:0.50934\tval-merror:0.49467\n",
      "[13]\ttrain-merror:0.50756\tval-merror:0.49365\n",
      "[14]\ttrain-merror:0.50413\tval-merror:0.49416\n",
      "[15]\ttrain-merror:0.50311\tval-merror:0.49670\n",
      "[16]\ttrain-merror:0.50260\tval-merror:0.49365\n",
      "[17]\ttrain-merror:0.50133\tval-merror:0.49467\n",
      "[18]\ttrain-merror:0.50044\tval-merror:0.49416\n"
     ]
    }
   ],
   "source": [
    "xgb_params = sweep_result\n",
    "\n",
    "xgb_params[\"booster\"] = \"gbtree\"\n",
    "xgb_params[\"device\"] = \"cuda\"\n",
    "xgb_params[\"objective\"] = \"multi:softmax\"\n",
    "xgb_params[\"num_class\"] = 3\n",
    "xgb_params[\"eval_metric\"] = \"merror\"\n",
    "xgb_params[\"verbosity\"] = 0\n",
    "\n",
    "num_boost_round = num_boost_round_sweep\n",
    "early_stopping_rounds = early_stopping_rounds_sweep\n",
    "\n",
    "dtrain = xgb.DMatrix(x_train, label=y_train)\n",
    "dval = xgb.DMatrix(x_val, label=y_val)\n",
    "dtest = xgb.DMatrix(x_test, label=y_test)\n",
    "\n",
    "evals = [(dtrain, \"train\"), (dval, \"val\")]\n",
    "\n",
    "bst = xgb.train(xgb_params, dtrain, num_boost_round=num_boost_round, evals=evals, early_stopping_rounds=early_stopping_rounds, verbose_eval=True)"
   ]
  },
  {
   "cell_type": "code",
   "execution_count": 83,
   "metadata": {},
   "outputs": [
    {
     "name": "stdout",
     "output_type": "stream",
     "text": [
      "Validation accuracy: 0.5053\n",
      "Test accuracy: 0.4900\n"
     ]
    }
   ],
   "source": [
    "from src.evaluate import evaluate_model\n",
    "\n",
    "acc_val = evaluate_model(bst, dval, y_val)\n",
    "acc_test = evaluate_model(bst, dtest, y_test)\n",
    "\n",
    "print(f\"Validation accuracy: {acc_val:.4f}\")\n",
    "print(f\"Test accuracy: {acc_test:.4f}\")"
   ]
  },
  {
   "cell_type": "code",
   "execution_count": 85,
   "metadata": {},
   "outputs": [],
   "source": [
    "from src.postprocessing import  compute_prediction, save_predictions\n",
    "\n",
    "team_statistics = load_team_data(train=False)\n",
    "player_statistics = load_agg_player_data(train=False)\n",
    "\n",
    "x_test = pd.concat([team_statistics, player_statistics], axis=1, join='inner')\n",
    "x_test = remove_name_columns(x_test)\n",
    "x_test, _, _ = impute_missing_values(x_test, imputer=imputer, numeric_columns=columns)\n",
    "\n",
    "dtest = xgb.DMatrix(x_test)\n",
    "\n",
    "y_pred = bst.predict(dtest, iteration_range=(0, bst.best_iteration))\n",
    "predictions = compute_prediction(y_pred, x_test)\n",
    "\n",
    "save_predictions(predictions, \"xgboost_player.csv\")"
   ]
  }
 ],
 "metadata": {
  "kernelspec": {
   "display_name": "Python 3",
   "language": "python",
   "name": "python3"
  },
  "language_info": {
   "codemirror_mode": {
    "name": "ipython",
    "version": 3
   },
   "file_extension": ".py",
   "mimetype": "text/x-python",
   "name": "python",
   "nbconvert_exporter": "python",
   "pygments_lexer": "ipython3",
   "version": "3.10.5"
  }
 },
 "nbformat": 4,
 "nbformat_minor": 2
}
